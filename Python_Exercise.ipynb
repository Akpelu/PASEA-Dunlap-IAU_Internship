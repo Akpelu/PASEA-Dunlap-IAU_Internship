{
 "cells": [
  {
   "cell_type": "markdown",
   "metadata": {},
   "source": [
    "# When Does The Moon Rise in Accra, Ghana on 2020-10-20\n",
    "\n",
    "## Authors: \n",
    "Jielai Zhang\n",
    "\n",
    "## Learning Goals:\n",
    "- Find time now in Python\n",
    "- Learn how to define parameters for a telescope observatory in Python\n",
    "- Learn how to find out sunset and sunrise times for the telescope observatory in Python\n",
    "\n",
    "## Keywords\n",
    "Astroplan, observing preparation\n",
    "\n",
    "## Summary\n",
    "This tutorial describes how to get the location information for an observatory, get the position information for an object in the sky and find out what time it will rise on a given date. The exercise will be done using Universal Time."
   ]
  },
  {
   "cell_type": "code",
   "execution_count": null,
   "metadata": {},
   "outputs": [],
   "source": [
    "from astropy.time import Time\n",
    "from astroplan import download_IERS_A \n",
    "from astropy.coordinates import EarthLocation\n",
    "from astroplan import Observer"
   ]
  },
  {
   "cell_type": "markdown",
   "metadata": {},
   "source": [
    "### What is the current UTC?"
   ]
  },
  {
   "cell_type": "code",
   "execution_count": null,
   "metadata": {},
   "outputs": [],
   "source": [
    "now = Time.now()\n",
    "print(now)\n",
    "print(now.decimalyear)"
   ]
  },
  {
   "cell_type": "markdown",
   "metadata": {},
   "source": [
    "### Check to see what observatories are available in the \"EarthLocation\" database."
   ]
  },
  {
   "cell_type": "code",
   "execution_count": null,
   "metadata": {},
   "outputs": [],
   "source": [
    "print((EarthLocation.get_site_names()))"
   ]
  },
  {
   "cell_type": "markdown",
   "metadata": {},
   "source": [
    "### Setting up observatory location"
   ]
  },
  {
   "cell_type": "code",
   "execution_count": null,
   "metadata": {},
   "outputs": [],
   "source": [
    "location  = EarthLocation.of_site(\"Cerro Tololo\")\n",
    "CerroTololo = Observer(location = location, timezone = 'America/Santiago',\n",
    "                             name = \"CT\", description = \"Cerro Tololo Telescope\")"
   ]
  },
  {
   "cell_type": "markdown",
   "metadata": {},
   "source": [
    "### Excercise 1: What is the Longtitude, Latitutde and Elevation of the Cerro Tololo Telescope as specified here?"
   ]
  },
  {
   "cell_type": "code",
   "execution_count": null,
   "metadata": {},
   "outputs": [],
   "source": [
    "# Fill in this cell to print the Longitude, Latitutde and Elevation inforamtion of the Cerro Tololo Telescope\n",
    "# I have not told you how to do this, have a think and try printing a few things until it works. \n",
    "# You are free to do searches on google, though it may take longer than just trying to print things until it works.\n"
   ]
  },
  {
   "cell_type": "code",
   "execution_count": null,
   "metadata": {},
   "outputs": [],
   "source": [
    "download_IERS_A()"
   ]
  },
  {
   "cell_type": "markdown",
   "metadata": {},
   "source": [
    "\n",
    "### Sunset, Sunrise, Midnight"
   ]
  },
  {
   "cell_type": "code",
   "execution_count": null,
   "metadata": {},
   "outputs": [],
   "source": [
    "# Calculating the sunset, sunrise times for our observatory \n",
    "sunset_CT = CerroTololo.sun_set_time(now, which='nearest')\n",
    "sunrise_CT = CerroTololo.sun_rise_time(now, which='next')\n",
    "\n",
    "print(\"Sunset at Cerro Tololo will be at {0.iso} UTC\".format(sunset_CT))\n",
    "print(\"Sunrise at Cerro Tololo will be at {0.iso} UTC\".format(sunrise_CT))"
   ]
  },
  {
   "cell_type": "markdown",
   "metadata": {},
   "source": [
    "### Exercise \n",
    "Find the effective length of time (in hours) between sunset and sunrise in Cerre Tololo tonight."
   ]
  },
  {
   "cell_type": "code",
   "execution_count": null,
   "metadata": {},
   "outputs": [],
   "source": [
    "# Fill in this cell to print number of hours between sunset and sunrise during the next night in Cerro Tololo.\n",
    "# I have not told you how to do this, have a think and try printing a few things until it works. \n",
    "# You are free to do searches on google, though it may take longer than just trying to print things until it works.\n"
   ]
  }
 ],
 "metadata": {
  "kernelspec": {
   "display_name": "Python 3",
   "language": "python",
   "name": "python3"
  },
  "language_info": {
   "codemirror_mode": {
    "name": "ipython",
    "version": 3
   },
   "file_extension": ".py",
   "mimetype": "text/x-python",
   "name": "python",
   "nbconvert_exporter": "python",
   "pygments_lexer": "ipython3",
   "version": "3.7.4"
  }
 },
 "nbformat": 4,
 "nbformat_minor": 2
}
